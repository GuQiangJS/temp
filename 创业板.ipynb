{
 "cells": [
  {
   "cell_type": "code",
   "execution_count": 1,
   "metadata": {
    "ExecuteTime": {
     "end_time": "2020-03-08T14:33:49.235980Z",
     "start_time": "2020-03-08T14:31:03.542258Z"
    },
    "scrolled": true
   },
   "outputs": [
    {
     "name": "stderr",
     "output_type": "stream",
     "text": [
      "QUANTAXIS>> Selecting the Best Server IP of TDX\n"
     ]
    },
    {
     "name": "stdout",
     "output_type": "stream",
     "text": [
      "USING DEFAULT STOCK IP\n",
      "USING DEFAULT FUTURE IP\n"
     ]
    },
    {
     "name": "stderr",
     "output_type": "stream",
     "text": [
      "QUANTAXIS>> === The BEST SERVER ===\n",
      " stock_ip 124.160.88.183 future_ip 124.74.236.94\n"
     ]
    },
    {
     "name": "stdout",
     "output_type": "stream",
     "text": [
      "Reading datas...\n"
     ]
    },
    {
     "data": {
      "application/vnd.jupyter.widget-view+json": {
       "model_id": "49e86755265f41f282e2ac2ea960efd5",
       "version_major": 2,
       "version_minor": 0
      },
      "text/plain": [
       "HBox(children=(IntProgress(value=0, max=3809), HTML(value='')))"
      ]
     },
     "metadata": {},
     "output_type": "display_data"
    },
    {
     "name": "stdout",
     "output_type": "stream",
     "text": [
      "QA Error QA_fetch_stock_day_adv parameter code=300812 , start=1990-01-01, end=2020-03-09 call QA_fetch_stock_day return None\n",
      "QA Error QA_fetch_stock_day_adv parameter code=300813 , start=1990-01-01, end=2020-03-09 call QA_fetch_stock_day return None\n",
      "QA Error QA_fetch_stock_day_adv parameter code=300815 , start=1990-01-01, end=2020-03-09 call QA_fetch_stock_day return None\n",
      "QA Error QA_fetch_stock_day_adv parameter code=300816 , start=1990-01-01, end=2020-03-09 call QA_fetch_stock_day return None\n",
      "QA Error QA_fetch_stock_day_adv parameter code=300817 , start=1990-01-01, end=2020-03-09 call QA_fetch_stock_day return None\n",
      "QA Error QA_fetch_stock_day_adv parameter code=300818 , start=1990-01-01, end=2020-03-09 call QA_fetch_stock_day return None\n",
      "QA Error QA_fetch_stock_day_adv parameter code=300819 , start=1990-01-01, end=2020-03-09 call QA_fetch_stock_day return None\n",
      "QA Error QA_fetch_stock_day_adv parameter code=300820 , start=1990-01-01, end=2020-03-09 call QA_fetch_stock_day return None\n",
      "QA Error QA_fetch_stock_day_adv parameter code=300821 , start=1990-01-01, end=2020-03-09 call QA_fetch_stock_day return None\n",
      "QA Error QA_fetch_stock_day_adv parameter code=300822 , start=1990-01-01, end=2020-03-09 call QA_fetch_stock_day return None\n",
      "QA Error QA_fetch_stock_day_adv parameter code=300823 , start=1990-01-01, end=2020-03-09 call QA_fetch_stock_day return None\n",
      "\n",
      "Datas readed.\n"
     ]
    }
   ],
   "source": [
    "import QUANTAXIS as QA\n",
    "import datetime\n",
    "import talib\n",
    "import traceback\n",
    "from finance_tools_py.backtest import BackTest\n",
    "from finance_tools_py.backtest import AHundredChecker\n",
    "import pandas as pd\n",
    "import numpy as np\n",
    "import concurrent.futures\n",
    "\n",
    "filename=\"创业板.csv\"\n",
    "\n",
    "code_list=QA.QA_fetch_get_stock_list('pytdx')\n",
    "## 合并所有股票一同回测\n",
    "from tqdm import tqdm_notebook\n",
    "print('Reading datas...')\n",
    "datas={}\n",
    "qfq_datas={}\n",
    "hfq_datas={}\n",
    "for symbol in tqdm_notebook(code_list['code'].values):\n",
    "    try:\n",
    "        if symbol[0]!=\"3\":\n",
    "            continue\n",
    "        d=QA.QA_fetch_stock_day_adv(symbol)\n",
    "        if d and not d.data.empty:\n",
    "            qfq_datas[symbol]=d.to_qfq().data.reset_index().set_index('date')\n",
    "            hfq_datas[symbol]=d.to_hfq().data.reset_index().set_index('date')\n",
    "            datas[symbol]=d\n",
    "    except:\n",
    "        continue\n",
    "print('Datas readed.')\n",
    "code_list=datas.keys()"
   ]
  },
  {
   "cell_type": "code",
   "execution_count": 31,
   "metadata": {
    "ExecuteTime": {
     "end_time": "2020-03-09T03:00:26.936124Z",
     "start_time": "2020-03-09T03:00:26.889241Z"
    }
   },
   "outputs": [],
   "source": [
    "\n",
    "class chker(AHundredChecker):\n",
    "    def __init__(self, buy_dict, sell_dict, min_price=3000, min_increase=1.15, **kwargs):\n",
    "        super().__init__(buy_dict, sell_dict, **kwargs)\n",
    "        self._min_price = 3000\n",
    "        self._min_increase = min_increase\n",
    "\n",
    "    def on_check_sell(self,\n",
    "                      date: datetime.datetime.timestamp,\n",
    "                      code: str,\n",
    "                      price: float,\n",
    "                      cash: float,\n",
    "                      hold_amount: float,\n",
    "                      hold_price: float) -> bool:\n",
    "        if price < hold_price:\n",
    "            # 当前价格小于持仓价时，不可卖\n",
    "            return False\n",
    "        if code in self.sell_dict.keys() and date in self.sell_dict[code]:\n",
    "            # 其他情况均可卖\n",
    "            return True\n",
    "        if hold_amount > 0 and self._min_increase > 0 and price >= hold_price * self._min_increase:\n",
    "            # 当前价格超过成本价15%时，可卖\n",
    "            return True\n",
    "        return False\n",
    "\n",
    "    def on_calc_buy_amount(self, date, code: str, price: float, cash: float) -> float:\n",
    "        amount = 100\n",
    "        if self._min_price > 0:\n",
    "            if cash < self._min_price:\n",
    "                return super().on_calc_buy_amount(date, code, price, cash)\n",
    "            while True:\n",
    "                amount = amount + 100\n",
    "                if price * amount > self._min_price:\n",
    "                    break\n",
    "            amount = amount - 100\n",
    "        return amount\n",
    "\n",
    "    def on_calc_sell_amount(self,\n",
    "                            date: datetime.datetime.timestamp,\n",
    "                            code: str,\n",
    "                            price: float,\n",
    "                            cash: float,\n",
    "                            hold_amount: float,\n",
    "                            hold_price: float) -> float:\n",
    "        \"\"\"返回所有持仓数量，一次卖出所有\"\"\"\n",
    "        return hold_amount\n",
    "\n",
    "\n",
    "def _calc_dict(df, symbol,start,end, bbands_periods, nbdevup, nbdevdn, difupstd, diflowstd, LINEARREG_ANGLE, MAX_LINEARREG_ANGLE,\n",
    "               MAX_ROLLING_MEAN, MAX_ROLLING_MEAN_MIN_PERIODS):\n",
    "    \"\"\"\n",
    "    \n",
    "    Args:\n",
    "        df (DataFrame): 前复权后的数据。reset_index().set_index('date')之后的数据。\n",
    "    \"\"\"\n",
    "    if df is not None and not df.empty:\n",
    "        bbands = df.reset_index().set_index('date')[start:end].reset_index().copy()\n",
    "        bbands['up'], bbands['mean'], bbands['low'] = talib.BBANDS(bbands['close'].values, timeperiod=bbands_periods,\n",
    "                                                                   nbdevup=nbdevup, nbdevdn=nbdevdn)\n",
    "        bbands['diff_up'] = bbands['up'] / bbands['close']\n",
    "        bbands['diff_mean'] = bbands['mean'] / bbands['close']\n",
    "        bbands['diff_low'] = bbands['low'] / bbands['close']\n",
    "\n",
    "        bbands['opt'] = 0\n",
    "\n",
    "        m1 = bbands['diff_up'].min() + bbands['diff_up'].std() * difupstd  # 卖出点\n",
    "        m2 = bbands['diff_low'].max() - bbands['diff_low'].std() * diflowstd  # 买入点\n",
    "\n",
    "        angles = []\n",
    "        max_angles = {}\n",
    "        for angle in LINEARREG_ANGLE:\n",
    "            col = 'angle_{}'.format(angle)\n",
    "            angles.append(col)\n",
    "            bbands[col] = talib.LINEARREG_ANGLE(bbands['close'], angle).abs().fillna(99)  # 日均线角度\n",
    "            if MAX_LINEARREG_ANGLE == \"MEAN\":\n",
    "                v = talib.LINEARREG_ANGLE(bbands['close'], angle).abs().mean()  # 日均线角度平均值\n",
    "            else:\n",
    "                v = talib.LINEARREG_ANGLE(bbands['close'], angle).abs().median()  # 日均线角度中位数\n",
    "            if np.isnan(v):\n",
    "                raise ValueError('{} LINEARREG_ANGLE is NaN'.format(angle))\n",
    "            max_angles[col] = int(v)\n",
    "        #                 bbands['angle_3']=talib.LINEARREG_ANGLE(bbands['close'],3).abs().fillna(99)#3日均线角度\n",
    "        #                 max_angle_60=int(talib.LINEARREG_ANGLE(bbands['close'],60).abs().mean())#60日均线角度中位数\n",
    "\n",
    "        bbands['rolling_mean'] = bbands['close'].rolling(MAX_ROLLING_MEAN,\n",
    "                                                         min_periods=MAX_ROLLING_MEAN_MIN_PERIODS).mean()  # 250日均价\n",
    "        bbands['rolling_std'] = bbands['close'].rolling(MAX_ROLLING_MEAN,\n",
    "                                                        min_periods=MAX_ROLLING_MEAN_MIN_PERIODS).std()  # 250日均价\n",
    "        bbands['rolling_mean'] = bbands['rolling_mean'] + bbands['rolling_std']\n",
    "\n",
    "        \"\"\"\n",
    "        1. 股价偏离30日均线上限或下线(diff_up,diff_low)\n",
    "        2. 30日均线角度绝对值小于5度时\n",
    "        3. 3日均线角度绝对值小于10度时\n",
    "        4. 当前价格需要小于250日均价+标准差的上限\n",
    "\n",
    "        2~4 均是为了防止站在山顶上\n",
    "        \"\"\"\n",
    "\n",
    "        bbands.loc[bbands['diff_up'] < m1, 'opt'] = 1  # 卖出点\n",
    "        # 买入点\n",
    "        query = 'diff_low>{}'.format(m2)\n",
    "        query = query + ' & close<rolling_mean & '\n",
    "        query = query + (' & '.join(['{}<{}'.format(a, max_angles[a]) for a in angles]))\n",
    "        #             queries[symbol]=query\n",
    "        bbands.loc[bbands.query(query).index, 'opt'] = 2\n",
    "        bbands.loc[bbands['opt'] != 0][['date', 'close', 'opt']]\n",
    "        point = bbands.loc[bbands['opt'] != 0][1:]\n",
    "\n",
    "        return symbol, pd.DatetimeIndex(point.loc[point['opt'] == 2]['date'].values), pd.DatetimeIndex(point.loc[point['opt'] == 1]['date'].values), query\n",
    "    return symbol,pd.Series(),pd.Series(),None\n",
    "\n",
    "def calc_dict(qfq_datas: dict,\n",
    "              start='2006-01-01',\n",
    "              end='2018-12-31',\n",
    "              bbands_periods=30,\n",
    "              nbdevup=2.8,\n",
    "              nbdevdn=2.8,\n",
    "              difupstd=0.1,\n",
    "              diflowstd=0.1,\n",
    "              LINEARREG_ANGLE=[60, 30, 10, 5, 3],\n",
    "              MAX_LINEARREG_ANGLE='MED',\n",
    "              MAX_ROLLING_MEAN=250,\n",
    "              MAX_ROLLING_MEAN_MIN_PERIODS=30,\n",
    "              max_workers=None,\n",
    "              mulitThread=False\n",
    "              ):\n",
    "    \"\"\"计算买入卖出时机点\n",
    "\n",
    "    Args:\n",
    "        MAX_LINEARREG_ANGLE: MED（中位数），MEAN（平均值）\n",
    "\n",
    "    Returns:\n",
    "        {},{} : 买入时机字典，卖出时机字典\n",
    "    \"\"\"\n",
    "\n",
    "    buy_dict = {}\n",
    "    sell_dict = {}\n",
    "    queries = {}\n",
    "    if mulitThread:\n",
    "#         with concurrent.futures.ThreadPoolExecutor(max_workers=max_workers) as executor:\n",
    "#             # Start the load operations and mark each future with its URL\n",
    "#             _calcs = {executor.submit(_calc_dict, df, symbol,start,end, bbands_periods, nbdevup, nbdevdn, difupstd, diflowstd,\n",
    "#                                       LINEARREG_ANGLE,\n",
    "#                                       MAX_LINEARREG_ANGLE,\n",
    "#                                       MAX_ROLLING_MEAN,\n",
    "#                                       MAX_ROLLING_MEAN_MIN_PERIODS): (symbol, df) for (symbol, df) in qfq_datas.items()}\n",
    "#             for future in concurrent.futures.as_completed(_calcs):\n",
    "#                 try:\n",
    "#                     symbol, buy, sell, q =future.result()\n",
    "#                     if (not buy.empty or not sell.empty) and q:\n",
    "#                         buy_dict[symbol] = buy\n",
    "#                         sell_dict[symbol] = sell\n",
    "#                         queries[symbol] = q\n",
    "#                 except Exception as e:\n",
    "#                     #                 print(str(e))\n",
    "#                     #                 traceback.print_exc()\n",
    "#                     if symbol in buy_dict:\n",
    "#                         del buy_dict[symbol]\n",
    "#                     if symbol in sell_dict:\n",
    "#                         del sell_dict[symbol]\n",
    "#                     if symbol in queries:\n",
    "#                         del queries[symbol]\n",
    "#                     continue\n",
    "        pass\n",
    "    else:\n",
    "        for symbol,df in tqdm_notebook(qfq_datas.items()):\n",
    "            try:\n",
    "                symbol, buy_dict[symbol],sell_dict[symbol],queries[symbol]=_calc_dict(df, symbol,start,end, bbands_periods, nbdevup, nbdevdn, difupstd, diflowstd,\n",
    "                                      LINEARREG_ANGLE,\n",
    "                                      MAX_LINEARREG_ANGLE,\n",
    "                                      MAX_ROLLING_MEAN,\n",
    "                                      MAX_ROLLING_MEAN_MIN_PERIODS)\n",
    "            except Exception as e:\n",
    "                if symbol in buy_dict:\n",
    "                    del buy_dict[symbol]\n",
    "                if symbol in sell_dict:\n",
    "                    del sell_dict[symbol]\n",
    "                if symbol in queries:\n",
    "                    del queries[symbol]\n",
    "                continue\n",
    "    return buy_dict, sell_dict, queries\n",
    "\n",
    "\n",
    "def save_test(bt,start,end,min_price,min_increase,bbands_periods,nbdevup,nbdevdn,difupstd,diflowstd,MAX_LINEARREG_ANGLE,MAX_ROLLING_MEAN,MAX_ROLLING_MEAN_MIN_PERIODS):\n",
    "    \n",
    "    df=pd.DataFrame(\n",
    "        {\n",
    "            'available_cash':[np.round(bt.available_cash,2)],\n",
    "            'total_assets_cur':[np.round(bt.total_assets_cur,2)],\n",
    "            'trade_times':[len(bt.history_df)],\n",
    "            'init_cash':[bt.init_cash],\n",
    "            'start':[start],\n",
    "            'end':[end],\n",
    "            'bbands_periods':[bbands_periods],\n",
    "            'nbdevup':[nbdevup],\n",
    "            'nbdevdn':[nbdevdn],\n",
    "            'difupstd':[difupstd],\n",
    "            'diflowstd':[diflowstd],\n",
    "            'MAX_LINEARREG_ANGLE':[MAX_LINEARREG_ANGLE],\n",
    "            'MAX_ROLLING_MEAN':[MAX_ROLLING_MEAN],\n",
    "            'MAX_ROLLING_MEAN_MIN_PERIODS':[MAX_ROLLING_MEAN_MIN_PERIODS],\n",
    "            'min_price':[min_price],\n",
    "            'min_increase':[min_increase],\n",
    "        })\n",
    "#     print(df[['start','end','min_price','available_cash','total_assets_cur','trade_times']])\n",
    "    \n",
    "    import os\n",
    "    if os.path.exists(filename):\n",
    "        df=pd.read_csv(filename,index_col=False).append(df)\n",
    "    df.to_csv(filename,index=False)\n",
    "        \n",
    "def test(datas,\n",
    "         qfq,\n",
    "         hfq,\n",
    "         start='2006-01-01',\n",
    "         end='2018-12-31',\n",
    "         bbands_periods=30,\n",
    "         nbdevup=2.8,\n",
    "         nbdevdn=2.8,\n",
    "         difupstd=0.1,\n",
    "         diflowstd=0.1,\n",
    "         LINEARREG_ANGLE=[60, 30, 3],\n",
    "         MAX_LINEARREG_ANGLE='MED',\n",
    "         MAX_ROLLING_MEAN=250,\n",
    "         MAX_ROLLING_MEAN_MIN_PERIODS=30,\n",
    "         init_cash=50000,\n",
    "         min_price=3000,\n",
    "         min_increase=1.15,\n",
    "         name='',max_workers=None):\n",
    "    print(\n",
    "        'start={},end={},bbands_periods={},nbdevup={},nbdevdn={},diffupstd={},diflowstd={},MAX_LINEARREG_ANGLE={},MAX_ROLLING_MEAN={},MAX_ROLLING_MEAN_MIN_PERIODS={},init_cash={},min_price={},min_increase={}'.format(\n",
    "            start,end,bbands_periods, nbdevup, nbdevdn, difupstd, diflowstd, MAX_LINEARREG_ANGLE, MAX_ROLLING_MEAN,\n",
    "            MAX_ROLLING_MEAN_MIN_PERIODS, init_cash, min_price, min_increase))\n",
    "    buy_dict, sell_dict, queries = calc_dict(qfq,\n",
    "                                             start=start,\n",
    "                                             end=end,\n",
    "                                             bbands_periods=bbands_periods,\n",
    "                                             nbdevup=nbdevup,\n",
    "                                             nbdevdn=nbdevdn,\n",
    "                                             difupstd=difupstd,\n",
    "                                             diflowstd=diflowstd,\n",
    "                                             LINEARREG_ANGLE=LINEARREG_ANGLE,\n",
    "                                             MAX_LINEARREG_ANGLE=MAX_LINEARREG_ANGLE,\n",
    "                                             MAX_ROLLING_MEAN=MAX_ROLLING_MEAN,\n",
    "                                             MAX_ROLLING_MEAN_MIN_PERIODS=MAX_ROLLING_MEAN_MIN_PERIODS,\n",
    "                                             max_workers=max_workers\n",
    "                                             )\n",
    "\n",
    "    buy_symbols = [k for k, v in buy_dict.items() if v is not None and len(v) > 0]\n",
    "\n",
    "    if len(buy_symbols) <= 0:\n",
    "        print('没有买入信号')\n",
    "        return None, None\n",
    "\n",
    "#     print('Data reading...')\n",
    "    datas_hfq = {}\n",
    "#     for symbol in tqdm_notebook(buy_symbols):\n",
    "    for symbol in buy_symbols:\n",
    "        datas_hfq[symbol] = hfq[symbol][_end:]\n",
    "        #从判断时间开始后开始计算\n",
    "#     print('Data readed')\n",
    "\n",
    "    all_data = pd.concat([x for x in datas_hfq.values() if x is not None])\n",
    "    bt = BackTest(all_data.sort_index(level=0).reset_index(), init_cash,\n",
    "                  callbacks=[chker(buy_dict, sell_dict, min_price, min_increase)])\n",
    "    print('Calcing...{}'.format(len(buy_symbols)))\n",
    "    bt.calc_trade_history(verbose=0)\n",
    "    save_test(bt,start,end,min_price,min_increase,bbands_periods,nbdevup,nbdevdn,difupstd,diflowstd,MAX_LINEARREG_ANGLE,MAX_ROLLING_MEAN,MAX_ROLLING_MEAN_MIN_PERIODS)\n",
    "    return bt, queries"
   ]
  },
  {
   "cell_type": "code",
   "execution_count": 32,
   "metadata": {
    "ExecuteTime": {
     "end_time": "2020-03-09T03:00:27.497247Z",
     "start_time": "2020-03-09T03:00:27.490249Z"
    }
   },
   "outputs": [],
   "source": [
    "result={}\n",
    "queries={}\n",
    "max_workers=None"
   ]
  },
  {
   "cell_type": "code",
   "execution_count": null,
   "metadata": {
    "ExecuteTime": {
     "start_time": "2020-03-09T03:02:27.284Z"
    }
   },
   "outputs": [
    {
     "name": "stdout",
     "output_type": "stream",
     "text": [
      "start=2006-01-01,end=2018-01-01,bbands_periods=5,nbdevup=2.6,nbdevdn=2.6,diffupstd=0.1,diflowstd=0.1,MAX_LINEARREG_ANGLE=MED,MAX_ROLLING_MEAN=120,MAX_ROLLING_MEAN_MIN_PERIODS=5,init_cash=50000,min_price=1000,min_increase=1.15\n"
     ]
    },
    {
     "data": {
      "application/vnd.jupyter.widget-view+json": {
       "model_id": "9ee0e3783d3645d8a2d35e2407a09c49",
       "version_major": 2,
       "version_minor": 0
      },
      "text/plain": [
       "HBox(children=(IntProgress(value=0, max=791), HTML(value='')))"
      ]
     },
     "metadata": {},
     "output_type": "display_data"
    },
    {
     "name": "stdout",
     "output_type": "stream",
     "text": [
      "Calcing...450\n"
     ]
    },
    {
     "data": {
      "application/vnd.jupyter.widget-view+json": {
       "model_id": "ad63ce87649445c48c353c1b4f39884f",
       "version_major": 2,
       "version_minor": 0
      },
      "text/plain": [
       "HBox(children=(IntProgress(value=1, bar_style='info', max=1), HTML(value='')))"
      ]
     },
     "metadata": {},
     "output_type": "display_data"
    },
    {
     "name": "stdout",
     "output_type": "stream",
     "text": [
      "start=2006-01-01,end=2018-01-01,bbands_periods=5,nbdevup=2.6,nbdevdn=2.6,diffupstd=0.1,diflowstd=0.1,MAX_LINEARREG_ANGLE=MEAN,MAX_ROLLING_MEAN=120,MAX_ROLLING_MEAN_MIN_PERIODS=5,init_cash=50000,min_price=1000,min_increase=1.15\n"
     ]
    },
    {
     "data": {
      "application/vnd.jupyter.widget-view+json": {
       "model_id": "dd674464bafd456692467f3a49e25cb6",
       "version_major": 2,
       "version_minor": 0
      },
      "text/plain": [
       "HBox(children=(IntProgress(value=0, max=791), HTML(value='')))"
      ]
     },
     "metadata": {},
     "output_type": "display_data"
    },
    {
     "name": "stdout",
     "output_type": "stream",
     "text": [
      "Calcing...603\n"
     ]
    },
    {
     "data": {
      "application/vnd.jupyter.widget-view+json": {
       "model_id": "61526b9f6f9440a8bec6c565816285e1",
       "version_major": 2,
       "version_minor": 0
      },
      "text/plain": [
       "HBox(children=(IntProgress(value=1, bar_style='info', max=1), HTML(value='')))"
      ]
     },
     "metadata": {},
     "output_type": "display_data"
    },
    {
     "name": "stdout",
     "output_type": "stream",
     "text": [
      "start=2006-01-01,end=2018-01-01,bbands_periods=5,nbdevup=2.6,nbdevdn=2.6,diffupstd=0.1,diflowstd=0.1,MAX_LINEARREG_ANGLE=MED,MAX_ROLLING_MEAN=120,MAX_ROLLING_MEAN_MIN_PERIODS=5,init_cash=50000,min_price=3000,min_increase=1.15\n"
     ]
    },
    {
     "data": {
      "application/vnd.jupyter.widget-view+json": {
       "model_id": "6a1a067badf34b67af6aed2770dad011",
       "version_major": 2,
       "version_minor": 0
      },
      "text/plain": [
       "HBox(children=(IntProgress(value=0, max=791), HTML(value='')))"
      ]
     },
     "metadata": {},
     "output_type": "display_data"
    },
    {
     "name": "stdout",
     "output_type": "stream",
     "text": [
      "Calcing...450\n"
     ]
    },
    {
     "data": {
      "application/vnd.jupyter.widget-view+json": {
       "model_id": "026b1b28d8064c0da01eb51e9a1422c6",
       "version_major": 2,
       "version_minor": 0
      },
      "text/plain": [
       "HBox(children=(IntProgress(value=1, bar_style='info', max=1), HTML(value='')))"
      ]
     },
     "metadata": {},
     "output_type": "display_data"
    },
    {
     "name": "stdout",
     "output_type": "stream",
     "text": [
      "start=2006-01-01,end=2018-01-01,bbands_periods=5,nbdevup=2.6,nbdevdn=2.6,diffupstd=0.1,diflowstd=0.1,MAX_LINEARREG_ANGLE=MEAN,MAX_ROLLING_MEAN=120,MAX_ROLLING_MEAN_MIN_PERIODS=5,init_cash=50000,min_price=3000,min_increase=1.15\n"
     ]
    },
    {
     "data": {
      "application/vnd.jupyter.widget-view+json": {
       "model_id": "4059e64a1577435f8ae4dbaddca0555f",
       "version_major": 2,
       "version_minor": 0
      },
      "text/plain": [
       "HBox(children=(IntProgress(value=0, max=791), HTML(value='')))"
      ]
     },
     "metadata": {},
     "output_type": "display_data"
    },
    {
     "name": "stdout",
     "output_type": "stream",
     "text": [
      "Calcing...603\n"
     ]
    },
    {
     "data": {
      "application/vnd.jupyter.widget-view+json": {
       "model_id": "95a57e9d248f4ebc965748a329efda38",
       "version_major": 2,
       "version_minor": 0
      },
      "text/plain": [
       "HBox(children=(IntProgress(value=1, bar_style='info', max=1), HTML(value='')))"
      ]
     },
     "metadata": {},
     "output_type": "display_data"
    },
    {
     "name": "stdout",
     "output_type": "stream",
     "text": [
      "start=2006-01-01,end=2018-01-01,bbands_periods=5,nbdevup=2.6,nbdevdn=2.6,diffupstd=0.1,diflowstd=0.1,MAX_LINEARREG_ANGLE=MED,MAX_ROLLING_MEAN=120,MAX_ROLLING_MEAN_MIN_PERIODS=5,init_cash=50000,min_price=5000,min_increase=1.15\n"
     ]
    },
    {
     "data": {
      "application/vnd.jupyter.widget-view+json": {
       "model_id": "8ffb150778204a498fc3644af98dfa20",
       "version_major": 2,
       "version_minor": 0
      },
      "text/plain": [
       "HBox(children=(IntProgress(value=0, max=791), HTML(value='')))"
      ]
     },
     "metadata": {},
     "output_type": "display_data"
    },
    {
     "name": "stdout",
     "output_type": "stream",
     "text": [
      "Calcing...450\n"
     ]
    },
    {
     "data": {
      "application/vnd.jupyter.widget-view+json": {
       "model_id": "b07b19aefda948bb93ba39c5811568f8",
       "version_major": 2,
       "version_minor": 0
      },
      "text/plain": [
       "HBox(children=(IntProgress(value=1, bar_style='info', max=1), HTML(value='')))"
      ]
     },
     "metadata": {},
     "output_type": "display_data"
    },
    {
     "name": "stdout",
     "output_type": "stream",
     "text": [
      "start=2006-01-01,end=2018-01-01,bbands_periods=5,nbdevup=2.6,nbdevdn=2.6,diffupstd=0.1,diflowstd=0.1,MAX_LINEARREG_ANGLE=MEAN,MAX_ROLLING_MEAN=120,MAX_ROLLING_MEAN_MIN_PERIODS=5,init_cash=50000,min_price=5000,min_increase=1.15\n"
     ]
    },
    {
     "data": {
      "application/vnd.jupyter.widget-view+json": {
       "model_id": "31e570c8678448ea9543e8ee1cbc0c20",
       "version_major": 2,
       "version_minor": 0
      },
      "text/plain": [
       "HBox(children=(IntProgress(value=0, max=791), HTML(value='')))"
      ]
     },
     "metadata": {},
     "output_type": "display_data"
    },
    {
     "name": "stdout",
     "output_type": "stream",
     "text": [
      "Calcing...603\n"
     ]
    },
    {
     "data": {
      "application/vnd.jupyter.widget-view+json": {
       "model_id": "cc165e1c50e740c9a60178e41177f02d",
       "version_major": 2,
       "version_minor": 0
      },
      "text/plain": [
       "HBox(children=(IntProgress(value=1, bar_style='info', max=1), HTML(value='')))"
      ]
     },
     "metadata": {},
     "output_type": "display_data"
    },
    {
     "name": "stdout",
     "output_type": "stream",
     "text": [
      "start=2006-01-01,end=2018-01-01,bbands_periods=5,nbdevup=2.6,nbdevdn=2.6,diffupstd=0.30000000000000004,diflowstd=0.30000000000000004,MAX_LINEARREG_ANGLE=MED,MAX_ROLLING_MEAN=120,MAX_ROLLING_MEAN_MIN_PERIODS=5,init_cash=50000,min_price=1000,min_increase=1.15\n"
     ]
    },
    {
     "data": {
      "application/vnd.jupyter.widget-view+json": {
       "model_id": "6d308050f2214f77a39b9e0397afb5df",
       "version_major": 2,
       "version_minor": 0
      },
      "text/plain": [
       "HBox(children=(IntProgress(value=0, max=791), HTML(value='')))"
      ]
     },
     "metadata": {},
     "output_type": "display_data"
    },
    {
     "name": "stdout",
     "output_type": "stream",
     "text": [
      "Calcing...497\n"
     ]
    },
    {
     "data": {
      "application/vnd.jupyter.widget-view+json": {
       "model_id": "080d9bcddd7b4f80a27277a52b1893bf",
       "version_major": 2,
       "version_minor": 0
      },
      "text/plain": [
       "HBox(children=(IntProgress(value=1, bar_style='info', max=1), HTML(value='')))"
      ]
     },
     "metadata": {},
     "output_type": "display_data"
    },
    {
     "name": "stdout",
     "output_type": "stream",
     "text": [
      "start=2006-01-01,end=2018-01-01,bbands_periods=5,nbdevup=2.6,nbdevdn=2.6,diffupstd=0.30000000000000004,diflowstd=0.30000000000000004,MAX_LINEARREG_ANGLE=MEAN,MAX_ROLLING_MEAN=120,MAX_ROLLING_MEAN_MIN_PERIODS=5,init_cash=50000,min_price=1000,min_increase=1.15\n"
     ]
    },
    {
     "data": {
      "application/vnd.jupyter.widget-view+json": {
       "model_id": "c9a4df3e5710460ab9dd2bf36319347b",
       "version_major": 2,
       "version_minor": 0
      },
      "text/plain": [
       "HBox(children=(IntProgress(value=0, max=791), HTML(value='')))"
      ]
     },
     "metadata": {},
     "output_type": "display_data"
    },
    {
     "name": "stdout",
     "output_type": "stream",
     "text": [
      "Calcing...628\n"
     ]
    },
    {
     "data": {
      "application/vnd.jupyter.widget-view+json": {
       "model_id": "6dcfe5016117421aa2a0f451d06e5341",
       "version_major": 2,
       "version_minor": 0
      },
      "text/plain": [
       "HBox(children=(IntProgress(value=1, bar_style='info', max=1), HTML(value='')))"
      ]
     },
     "metadata": {},
     "output_type": "display_data"
    },
    {
     "name": "stdout",
     "output_type": "stream",
     "text": [
      "start=2006-01-01,end=2018-01-01,bbands_periods=5,nbdevup=2.6,nbdevdn=2.6,diffupstd=0.30000000000000004,diflowstd=0.30000000000000004,MAX_LINEARREG_ANGLE=MED,MAX_ROLLING_MEAN=120,MAX_ROLLING_MEAN_MIN_PERIODS=5,init_cash=50000,min_price=3000,min_increase=1.15\n"
     ]
    },
    {
     "data": {
      "application/vnd.jupyter.widget-view+json": {
       "model_id": "256fe03ffa564699b95b414e1c3ffce7",
       "version_major": 2,
       "version_minor": 0
      },
      "text/plain": [
       "HBox(children=(IntProgress(value=0, max=791), HTML(value='')))"
      ]
     },
     "metadata": {},
     "output_type": "display_data"
    },
    {
     "name": "stdout",
     "output_type": "stream",
     "text": [
      "Calcing...497\n"
     ]
    },
    {
     "data": {
      "application/vnd.jupyter.widget-view+json": {
       "model_id": "356ae641b4e04f05a2c9bc3c8df6d290",
       "version_major": 2,
       "version_minor": 0
      },
      "text/plain": [
       "HBox(children=(IntProgress(value=1, bar_style='info', max=1), HTML(value='')))"
      ]
     },
     "metadata": {},
     "output_type": "display_data"
    },
    {
     "name": "stdout",
     "output_type": "stream",
     "text": [
      "start=2006-01-01,end=2018-01-01,bbands_periods=5,nbdevup=2.6,nbdevdn=2.6,diffupstd=0.30000000000000004,diflowstd=0.30000000000000004,MAX_LINEARREG_ANGLE=MEAN,MAX_ROLLING_MEAN=120,MAX_ROLLING_MEAN_MIN_PERIODS=5,init_cash=50000,min_price=3000,min_increase=1.15\n"
     ]
    },
    {
     "data": {
      "application/vnd.jupyter.widget-view+json": {
       "model_id": "648096c28ac24744ad622c02184884e7",
       "version_major": 2,
       "version_minor": 0
      },
      "text/plain": [
       "HBox(children=(IntProgress(value=0, max=791), HTML(value='')))"
      ]
     },
     "metadata": {},
     "output_type": "display_data"
    },
    {
     "name": "stdout",
     "output_type": "stream",
     "text": [
      "Calcing...628\n"
     ]
    },
    {
     "data": {
      "application/vnd.jupyter.widget-view+json": {
       "model_id": "40d6f08bd82a42eeaecba0705589b4c7",
       "version_major": 2,
       "version_minor": 0
      },
      "text/plain": [
       "HBox(children=(IntProgress(value=1, bar_style='info', max=1), HTML(value='')))"
      ]
     },
     "metadata": {},
     "output_type": "display_data"
    },
    {
     "name": "stdout",
     "output_type": "stream",
     "text": [
      "start=2006-01-01,end=2018-01-01,bbands_periods=5,nbdevup=2.6,nbdevdn=2.6,diffupstd=0.30000000000000004,diflowstd=0.30000000000000004,MAX_LINEARREG_ANGLE=MED,MAX_ROLLING_MEAN=120,MAX_ROLLING_MEAN_MIN_PERIODS=5,init_cash=50000,min_price=5000,min_increase=1.15\n"
     ]
    },
    {
     "data": {
      "application/vnd.jupyter.widget-view+json": {
       "model_id": "c33fde68e78f4be9a3e634b2db4e63a1",
       "version_major": 2,
       "version_minor": 0
      },
      "text/plain": [
       "HBox(children=(IntProgress(value=0, max=791), HTML(value='')))"
      ]
     },
     "metadata": {},
     "output_type": "display_data"
    },
    {
     "name": "stdout",
     "output_type": "stream",
     "text": [
      "Calcing...497\n"
     ]
    },
    {
     "data": {
      "application/vnd.jupyter.widget-view+json": {
       "model_id": "7812519ed57a45d1a46b5f841c3f57c9",
       "version_major": 2,
       "version_minor": 0
      },
      "text/plain": [
       "HBox(children=(IntProgress(value=1, bar_style='info', max=1), HTML(value='')))"
      ]
     },
     "metadata": {},
     "output_type": "display_data"
    },
    {
     "name": "stdout",
     "output_type": "stream",
     "text": [
      "start=2006-01-01,end=2018-01-01,bbands_periods=5,nbdevup=2.6,nbdevdn=2.6,diffupstd=0.30000000000000004,diflowstd=0.30000000000000004,MAX_LINEARREG_ANGLE=MEAN,MAX_ROLLING_MEAN=120,MAX_ROLLING_MEAN_MIN_PERIODS=5,init_cash=50000,min_price=5000,min_increase=1.15\n"
     ]
    },
    {
     "data": {
      "application/vnd.jupyter.widget-view+json": {
       "model_id": "3017d71d1c25445caffb3a52d428b209",
       "version_major": 2,
       "version_minor": 0
      },
      "text/plain": [
       "HBox(children=(IntProgress(value=0, max=791), HTML(value='')))"
      ]
     },
     "metadata": {},
     "output_type": "display_data"
    },
    {
     "name": "stdout",
     "output_type": "stream",
     "text": [
      "Calcing...628\n"
     ]
    },
    {
     "data": {
      "application/vnd.jupyter.widget-view+json": {
       "model_id": "7cbf771afabc4e608c8bf32b1f55573e",
       "version_major": 2,
       "version_minor": 0
      },
      "text/plain": [
       "HBox(children=(IntProgress(value=1, bar_style='info', max=1), HTML(value='')))"
      ]
     },
     "metadata": {},
     "output_type": "display_data"
    },
    {
     "name": "stdout",
     "output_type": "stream",
     "text": [
      "start=2006-01-01,end=2018-01-01,bbands_periods=5,nbdevup=2.6,nbdevdn=2.6,diffupstd=0.5000000000000001,diflowstd=0.5000000000000001,MAX_LINEARREG_ANGLE=MED,MAX_ROLLING_MEAN=120,MAX_ROLLING_MEAN_MIN_PERIODS=5,init_cash=50000,min_price=1000,min_increase=1.15\n"
     ]
    },
    {
     "data": {
      "application/vnd.jupyter.widget-view+json": {
       "model_id": "9ef169b9e2b64424af86ded925fd756e",
       "version_major": 2,
       "version_minor": 0
      },
      "text/plain": [
       "HBox(children=(IntProgress(value=0, max=791), HTML(value='')))"
      ]
     },
     "metadata": {},
     "output_type": "display_data"
    },
    {
     "name": "stdout",
     "output_type": "stream",
     "text": [
      "Calcing...509\n"
     ]
    },
    {
     "data": {
      "application/vnd.jupyter.widget-view+json": {
       "model_id": "c10318a70bad4b17ad4689967faec9a9",
       "version_major": 2,
       "version_minor": 0
      },
      "text/plain": [
       "HBox(children=(IntProgress(value=1, bar_style='info', max=1), HTML(value='')))"
      ]
     },
     "metadata": {},
     "output_type": "display_data"
    },
    {
     "name": "stdout",
     "output_type": "stream",
     "text": [
      "start=2006-01-01,end=2018-01-01,bbands_periods=5,nbdevup=2.6,nbdevdn=2.6,diffupstd=0.5000000000000001,diflowstd=0.5000000000000001,MAX_LINEARREG_ANGLE=MEAN,MAX_ROLLING_MEAN=120,MAX_ROLLING_MEAN_MIN_PERIODS=5,init_cash=50000,min_price=1000,min_increase=1.15\n"
     ]
    },
    {
     "data": {
      "application/vnd.jupyter.widget-view+json": {
       "model_id": "40e2cef7f98b49328bcec254ad90e78d",
       "version_major": 2,
       "version_minor": 0
      },
      "text/plain": [
       "HBox(children=(IntProgress(value=0, max=791), HTML(value='')))"
      ]
     },
     "metadata": {},
     "output_type": "display_data"
    },
    {
     "name": "stdout",
     "output_type": "stream",
     "text": [
      "Calcing...636\n"
     ]
    },
    {
     "data": {
      "application/vnd.jupyter.widget-view+json": {
       "model_id": "13645fa2a01641eb8f65a816e932b5b5",
       "version_major": 2,
       "version_minor": 0
      },
      "text/plain": [
       "HBox(children=(IntProgress(value=1, bar_style='info', max=1), HTML(value='')))"
      ]
     },
     "metadata": {},
     "output_type": "display_data"
    },
    {
     "name": "stdout",
     "output_type": "stream",
     "text": [
      "start=2006-01-01,end=2018-01-01,bbands_periods=5,nbdevup=2.6,nbdevdn=2.6,diffupstd=0.5000000000000001,diflowstd=0.5000000000000001,MAX_LINEARREG_ANGLE=MED,MAX_ROLLING_MEAN=120,MAX_ROLLING_MEAN_MIN_PERIODS=5,init_cash=50000,min_price=3000,min_increase=1.15\n"
     ]
    },
    {
     "data": {
      "application/vnd.jupyter.widget-view+json": {
       "model_id": "5652bb7cb85d4cf6b4e274f804f5d756",
       "version_major": 2,
       "version_minor": 0
      },
      "text/plain": [
       "HBox(children=(IntProgress(value=0, max=791), HTML(value='')))"
      ]
     },
     "metadata": {},
     "output_type": "display_data"
    },
    {
     "name": "stdout",
     "output_type": "stream",
     "text": [
      "Calcing...509\n"
     ]
    },
    {
     "data": {
      "application/vnd.jupyter.widget-view+json": {
       "model_id": "4049dbdf759745cd9fd97b90fd3b9b7f",
       "version_major": 2,
       "version_minor": 0
      },
      "text/plain": [
       "HBox(children=(IntProgress(value=1, bar_style='info', max=1), HTML(value='')))"
      ]
     },
     "metadata": {},
     "output_type": "display_data"
    },
    {
     "name": "stdout",
     "output_type": "stream",
     "text": [
      "start=2006-01-01,end=2018-01-01,bbands_periods=5,nbdevup=2.6,nbdevdn=2.6,diffupstd=0.5000000000000001,diflowstd=0.5000000000000001,MAX_LINEARREG_ANGLE=MEAN,MAX_ROLLING_MEAN=120,MAX_ROLLING_MEAN_MIN_PERIODS=5,init_cash=50000,min_price=3000,min_increase=1.15\n"
     ]
    },
    {
     "data": {
      "application/vnd.jupyter.widget-view+json": {
       "model_id": "9d596467f61a4cd3ac96deb1b98eb635",
       "version_major": 2,
       "version_minor": 0
      },
      "text/plain": [
       "HBox(children=(IntProgress(value=0, max=791), HTML(value='')))"
      ]
     },
     "metadata": {},
     "output_type": "display_data"
    },
    {
     "name": "stdout",
     "output_type": "stream",
     "text": [
      "Calcing...636\n"
     ]
    },
    {
     "data": {
      "application/vnd.jupyter.widget-view+json": {
       "model_id": "b2e4bea6779f49618d53623a11c99084",
       "version_major": 2,
       "version_minor": 0
      },
      "text/plain": [
       "HBox(children=(IntProgress(value=1, bar_style='info', max=1), HTML(value='')))"
      ]
     },
     "metadata": {},
     "output_type": "display_data"
    },
    {
     "name": "stdout",
     "output_type": "stream",
     "text": [
      "start=2006-01-01,end=2018-01-01,bbands_periods=5,nbdevup=2.6,nbdevdn=2.6,diffupstd=0.5000000000000001,diflowstd=0.5000000000000001,MAX_LINEARREG_ANGLE=MED,MAX_ROLLING_MEAN=120,MAX_ROLLING_MEAN_MIN_PERIODS=5,init_cash=50000,min_price=5000,min_increase=1.15\n"
     ]
    },
    {
     "data": {
      "application/vnd.jupyter.widget-view+json": {
       "model_id": "394dd0118ff3428c9c0c8c283dbb4bd7",
       "version_major": 2,
       "version_minor": 0
      },
      "text/plain": [
       "HBox(children=(IntProgress(value=0, max=791), HTML(value='')))"
      ]
     },
     "metadata": {},
     "output_type": "display_data"
    },
    {
     "name": "stdout",
     "output_type": "stream",
     "text": [
      "Calcing...509\n"
     ]
    },
    {
     "data": {
      "application/vnd.jupyter.widget-view+json": {
       "model_id": "48f73e7a7d7f4e5296bc39593553442b",
       "version_major": 2,
       "version_minor": 0
      },
      "text/plain": [
       "HBox(children=(IntProgress(value=1, bar_style='info', max=1), HTML(value='')))"
      ]
     },
     "metadata": {},
     "output_type": "display_data"
    },
    {
     "name": "stdout",
     "output_type": "stream",
     "text": [
      "start=2006-01-01,end=2018-01-01,bbands_periods=5,nbdevup=2.6,nbdevdn=2.6,diffupstd=0.5000000000000001,diflowstd=0.5000000000000001,MAX_LINEARREG_ANGLE=MEAN,MAX_ROLLING_MEAN=120,MAX_ROLLING_MEAN_MIN_PERIODS=5,init_cash=50000,min_price=5000,min_increase=1.15\n"
     ]
    },
    {
     "data": {
      "application/vnd.jupyter.widget-view+json": {
       "model_id": "e7ad47478b5f4473aff9490139533e0c",
       "version_major": 2,
       "version_minor": 0
      },
      "text/plain": [
       "HBox(children=(IntProgress(value=0, max=791), HTML(value='')))"
      ]
     },
     "metadata": {},
     "output_type": "display_data"
    },
    {
     "name": "stdout",
     "output_type": "stream",
     "text": [
      "Calcing...636\n"
     ]
    },
    {
     "data": {
      "application/vnd.jupyter.widget-view+json": {
       "model_id": "463073a01eb5452181a865c13ac0906d",
       "version_major": 2,
       "version_minor": 0
      },
      "text/plain": [
       "HBox(children=(IntProgress(value=1, bar_style='info', max=1), HTML(value='')))"
      ]
     },
     "metadata": {},
     "output_type": "display_data"
    },
    {
     "name": "stdout",
     "output_type": "stream",
     "text": [
      "start=2006-01-01,end=2018-01-01,bbands_periods=5,nbdevup=2.6,nbdevdn=2.6,diffupstd=0.7000000000000001,diflowstd=0.7000000000000001,MAX_LINEARREG_ANGLE=MED,MAX_ROLLING_MEAN=120,MAX_ROLLING_MEAN_MIN_PERIODS=5,init_cash=50000,min_price=1000,min_increase=1.15\n"
     ]
    },
    {
     "data": {
      "application/vnd.jupyter.widget-view+json": {
       "model_id": "63aed9579c7e43b186493f84a1ab8064",
       "version_major": 2,
       "version_minor": 0
      },
      "text/plain": [
       "HBox(children=(IntProgress(value=0, max=791), HTML(value='')))"
      ]
     },
     "metadata": {},
     "output_type": "display_data"
    },
    {
     "name": "stdout",
     "output_type": "stream",
     "text": [
      "Calcing...512\n"
     ]
    },
    {
     "data": {
      "application/vnd.jupyter.widget-view+json": {
       "model_id": "6fca39f77dfd4467b5698038e63f4371",
       "version_major": 2,
       "version_minor": 0
      },
      "text/plain": [
       "HBox(children=(IntProgress(value=1, bar_style='info', max=1), HTML(value='')))"
      ]
     },
     "metadata": {},
     "output_type": "display_data"
    },
    {
     "name": "stdout",
     "output_type": "stream",
     "text": [
      "start=2006-01-01,end=2018-01-01,bbands_periods=5,nbdevup=2.6,nbdevdn=2.6,diffupstd=0.7000000000000001,diflowstd=0.7000000000000001,MAX_LINEARREG_ANGLE=MEAN,MAX_ROLLING_MEAN=120,MAX_ROLLING_MEAN_MIN_PERIODS=5,init_cash=50000,min_price=1000,min_increase=1.15\n"
     ]
    },
    {
     "data": {
      "application/vnd.jupyter.widget-view+json": {
       "model_id": "367c5d1bfa1f4ad0918be962fa803293",
       "version_major": 2,
       "version_minor": 0
      },
      "text/plain": [
       "HBox(children=(IntProgress(value=0, max=791), HTML(value='')))"
      ]
     },
     "metadata": {},
     "output_type": "display_data"
    },
    {
     "name": "stdout",
     "output_type": "stream",
     "text": [
      "Calcing...638\n"
     ]
    },
    {
     "data": {
      "application/vnd.jupyter.widget-view+json": {
       "model_id": "2f3effd3dd4644a796809b91ae701e52",
       "version_major": 2,
       "version_minor": 0
      },
      "text/plain": [
       "HBox(children=(IntProgress(value=1, bar_style='info', max=1), HTML(value='')))"
      ]
     },
     "metadata": {},
     "output_type": "display_data"
    },
    {
     "name": "stdout",
     "output_type": "stream",
     "text": [
      "start=2006-01-01,end=2018-01-01,bbands_periods=5,nbdevup=2.6,nbdevdn=2.6,diffupstd=0.7000000000000001,diflowstd=0.7000000000000001,MAX_LINEARREG_ANGLE=MED,MAX_ROLLING_MEAN=120,MAX_ROLLING_MEAN_MIN_PERIODS=5,init_cash=50000,min_price=3000,min_increase=1.15\n"
     ]
    },
    {
     "data": {
      "application/vnd.jupyter.widget-view+json": {
       "model_id": "51f105c60fe74f7fb4e2f37466b01e5a",
       "version_major": 2,
       "version_minor": 0
      },
      "text/plain": [
       "HBox(children=(IntProgress(value=0, max=791), HTML(value='')))"
      ]
     },
     "metadata": {},
     "output_type": "display_data"
    },
    {
     "name": "stdout",
     "output_type": "stream",
     "text": [
      "Calcing...512\n"
     ]
    },
    {
     "data": {
      "application/vnd.jupyter.widget-view+json": {
       "model_id": "0fedb0be3bdc4b448105d636d6355769",
       "version_major": 2,
       "version_minor": 0
      },
      "text/plain": [
       "HBox(children=(IntProgress(value=1, bar_style='info', max=1), HTML(value='')))"
      ]
     },
     "metadata": {},
     "output_type": "display_data"
    },
    {
     "name": "stdout",
     "output_type": "stream",
     "text": [
      "start=2006-01-01,end=2018-01-01,bbands_periods=5,nbdevup=2.6,nbdevdn=2.6,diffupstd=0.7000000000000001,diflowstd=0.7000000000000001,MAX_LINEARREG_ANGLE=MEAN,MAX_ROLLING_MEAN=120,MAX_ROLLING_MEAN_MIN_PERIODS=5,init_cash=50000,min_price=3000,min_increase=1.15\n"
     ]
    },
    {
     "data": {
      "application/vnd.jupyter.widget-view+json": {
       "model_id": "daaa461cf8074cab9360c701d51ac017",
       "version_major": 2,
       "version_minor": 0
      },
      "text/plain": [
       "HBox(children=(IntProgress(value=0, max=791), HTML(value='')))"
      ]
     },
     "metadata": {},
     "output_type": "display_data"
    },
    {
     "name": "stdout",
     "output_type": "stream",
     "text": [
      "Calcing...638\n"
     ]
    },
    {
     "data": {
      "application/vnd.jupyter.widget-view+json": {
       "model_id": "6119e1961f1646fb90b6fd953944590f",
       "version_major": 2,
       "version_minor": 0
      },
      "text/plain": [
       "HBox(children=(IntProgress(value=1, bar_style='info', max=1), HTML(value='')))"
      ]
     },
     "metadata": {},
     "output_type": "display_data"
    },
    {
     "name": "stdout",
     "output_type": "stream",
     "text": [
      "start=2006-01-01,end=2018-01-01,bbands_periods=5,nbdevup=2.6,nbdevdn=2.6,diffupstd=0.7000000000000001,diflowstd=0.7000000000000001,MAX_LINEARREG_ANGLE=MED,MAX_ROLLING_MEAN=120,MAX_ROLLING_MEAN_MIN_PERIODS=5,init_cash=50000,min_price=5000,min_increase=1.15\n"
     ]
    },
    {
     "data": {
      "application/vnd.jupyter.widget-view+json": {
       "model_id": "522b0764f71a453ca849100fd5c1ebf7",
       "version_major": 2,
       "version_minor": 0
      },
      "text/plain": [
       "HBox(children=(IntProgress(value=0, max=791), HTML(value='')))"
      ]
     },
     "metadata": {},
     "output_type": "display_data"
    },
    {
     "name": "stdout",
     "output_type": "stream",
     "text": [
      "Calcing...512\n"
     ]
    },
    {
     "data": {
      "application/vnd.jupyter.widget-view+json": {
       "model_id": "225da04dc1e54fab8dac91a6d67bc51b",
       "version_major": 2,
       "version_minor": 0
      },
      "text/plain": [
       "HBox(children=(IntProgress(value=1, bar_style='info', max=1), HTML(value='')))"
      ]
     },
     "metadata": {},
     "output_type": "display_data"
    },
    {
     "name": "stdout",
     "output_type": "stream",
     "text": [
      "start=2006-01-01,end=2018-01-01,bbands_periods=5,nbdevup=2.6,nbdevdn=2.6,diffupstd=0.7000000000000001,diflowstd=0.7000000000000001,MAX_LINEARREG_ANGLE=MEAN,MAX_ROLLING_MEAN=120,MAX_ROLLING_MEAN_MIN_PERIODS=5,init_cash=50000,min_price=5000,min_increase=1.15\n"
     ]
    },
    {
     "data": {
      "application/vnd.jupyter.widget-view+json": {
       "model_id": "1c270d6dd567422ab50e33c9f017ed2b",
       "version_major": 2,
       "version_minor": 0
      },
      "text/plain": [
       "HBox(children=(IntProgress(value=0, max=791), HTML(value='')))"
      ]
     },
     "metadata": {},
     "output_type": "display_data"
    }
   ],
   "source": [
    "for _start in ['2006-01-01']:\n",
    "    for _end in ['2018-01-01']:\n",
    "        for _rollin_mean in [120,250,360]:\n",
    "            for _bbands_periods in [5,20,30,60]:#布林带窗口期\n",
    "                for _nbdev in np.arange(2.6,3.1,0.1):#布林带上下限大小\n",
    "                    for _nb_diff in np.arange(0.1,1.0,0.2):#布林带上下限加减的标准差大小\n",
    "                        for _min_price in [1000,3000,5000]:#最小购买金额\n",
    "                            for _angle in ['MED','MEAN']:\n",
    "                                name='bbands_periods={},nbdevup={},nbdevdn={},diffupstd={},diflowstd={},MAX_LINEARREG_ANGLE={},MAX_ROLLING_MEAN={},MAX_ROLLING_MEAN_MIN_PERIODS={},min_price={}'.format(\n",
    "                                    _bbands_periods,_nbdev,_nbdev,_nb_diff,_nb_diff,_angle,_rollin_mean,_bbands_periods,_min_price)\n",
    "                                b,q=test(datas,qfq_datas,hfq_datas,\n",
    "                                         start=_start,end=_end,\n",
    "                                                  name=name,\n",
    "                                                  min_price=_min_price,\n",
    "                                                  MAX_LINEARREG_ANGLE=_angle,\n",
    "                                                  nbdevup=_nbdev,\n",
    "                                                  nbdevdn=_nbdev,\n",
    "                                                  difupstd=_nb_diff,\n",
    "                                                  diflowstd=_nb_diff,\n",
    "                                                  bbands_periods=_bbands_periods,\n",
    "                                                  MAX_ROLLING_MEAN_MIN_PERIODS=_bbands_periods,\n",
    "                                                  MAX_ROLLING_MEAN=_rollin_mean,\n",
    "                                         max_workers=max_workers\n",
    "                                                 )\n",
    "                                result[name]=b\n",
    "                                queries[name]=q"
   ]
  },
  {
   "cell_type": "code",
   "execution_count": null,
   "metadata": {},
   "outputs": [],
   "source": []
  },
  {
   "cell_type": "code",
   "execution_count": null,
   "metadata": {},
   "outputs": [],
   "source": []
  }
 ],
 "metadata": {
  "kernelspec": {
   "display_name": "stock_ai",
   "language": "python",
   "name": "stock_ai"
  },
  "language_info": {
   "codemirror_mode": {
    "name": "ipython",
    "version": 3
   },
   "file_extension": ".py",
   "mimetype": "text/x-python",
   "name": "python",
   "nbconvert_exporter": "python",
   "pygments_lexer": "ipython3",
   "version": "3.7.3"
  }
 },
 "nbformat": 4,
 "nbformat_minor": 2
}
