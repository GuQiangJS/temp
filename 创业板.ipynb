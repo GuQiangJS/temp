{
 "cells": [
  {
   "cell_type": "code",
   "execution_count": 1,
   "metadata": {
    "ExecuteTime": {
     "end_time": "2020-03-08T13:27:22.429775Z",
     "start_time": "2020-03-08T13:24:34.109857Z"
    },
    "scrolled": true
   },
   "outputs": [
    {
     "name": "stderr",
     "output_type": "stream",
     "text": [
      "QUANTAXIS>> Selecting the Best Server IP of TDX\n"
     ]
    },
    {
     "name": "stdout",
     "output_type": "stream",
     "text": [
      "USING DEFAULT STOCK IP\n",
      "USING DEFAULT FUTURE IP\n"
     ]
    },
    {
     "name": "stderr",
     "output_type": "stream",
     "text": [
      "QUANTAXIS>> === The BEST SERVER ===\n",
      " stock_ip 124.160.88.183 future_ip 124.74.236.94\n"
     ]
    },
    {
     "name": "stdout",
     "output_type": "stream",
     "text": [
      "Reading datas...\n"
     ]
    },
    {
     "name": "stderr",
     "output_type": "stream",
     "text": [
      " 58%|█████████████████████████████████████████████                                 | 2199/3807 [02:44<02:25, 11.09it/s]"
     ]
    },
    {
     "name": "stdout",
     "output_type": "stream",
     "text": [
      "QA Error QA_fetch_stock_day_adv parameter code=300812 , start=1990-01-01, end=2020-03-08 call QA_fetch_stock_day return None\n",
      "QA Error QA_fetch_stock_day_adv parameter code=300813 , start=1990-01-01, end=2020-03-08 call QA_fetch_stock_day return None\n",
      "QA Error QA_fetch_stock_day_adv parameter code=300815 , start=1990-01-01, end=2020-03-08 call QA_fetch_stock_day return None\n",
      "QA Error QA_fetch_stock_day_adv parameter code=300816 , start=1990-01-01, end=2020-03-08 call QA_fetch_stock_day return None\n",
      "QA Error QA_fetch_stock_day_adv parameter code=300817 , start=1990-01-01, end=2020-03-08 call QA_fetch_stock_day return None\n",
      "QA Error QA_fetch_stock_day_adv parameter code=300818 , start=1990-01-01, end=2020-03-08 call QA_fetch_stock_day return None\n",
      "QA Error QA_fetch_stock_day_adv parameter code=300819 , start=1990-01-01, end=2020-03-08 call QA_fetch_stock_day return None\n",
      "QA Error QA_fetch_stock_day_adv parameter code=300820 , start=1990-01-01, end=2020-03-08 call QA_fetch_stock_day return None\n",
      "QA Error QA_fetch_stock_day_adv parameter code=300821 , start=1990-01-01, end=2020-03-08 call QA_fetch_stock_day return None\n",
      "QA Error QA_fetch_stock_day_adv parameter code=300822 , start=1990-01-01, end=2020-03-08 call QA_fetch_stock_day return None\n",
      "QA Error QA_fetch_stock_day_adv parameter code=300823 , start=1990-01-01, end=2020-03-08 call QA_fetch_stock_day return None\n"
     ]
    },
    {
     "name": "stderr",
     "output_type": "stream",
     "text": [
      "100%|██████████████████████████████████████████████████████████████████████████████| 3807/3807 [02:44<00:00, 23.14it/s]\n"
     ]
    },
    {
     "name": "stdout",
     "output_type": "stream",
     "text": [
      "Datas readed.\n"
     ]
    }
   ],
   "source": [
    "import QUANTAXIS as QA\n",
    "import datetime\n",
    "import talib\n",
    "import traceback\n",
    "from finance_tools_py.backtest import BackTest\n",
    "from finance_tools_py.backtest import AHundredChecker\n",
    "import pandas as pd\n",
    "import numpy as np\n",
    "import concurrent.futures\n",
    "\n",
    "code_list=QA.QA_fetch_get_stock_list('pytdx')\n",
    "## 合并所有股票一同回测\n",
    "from tqdm import tqdm\n",
    "print('Reading datas...')\n",
    "datas={}\n",
    "qfq_datas={}\n",
    "hfq_datas={}\n",
    "for symbol in tqdm(code_list['code'].values):\n",
    "    try:\n",
    "        if symbol[0]!=\"3\":\n",
    "            continue\n",
    "        d=QA.QA_fetch_stock_day_adv(symbol)\n",
    "        if d and not d.data.empty:\n",
    "            qfq_datas[symbol]=d.to_qfq().data.reset_index().set_index('date')\n",
    "            hfq_datas[symbol]=d.to_hfq().data.reset_index().set_index('date')\n",
    "            datas[symbol]=d\n",
    "    except:\n",
    "        continue\n",
    "        break\n",
    "print('Datas readed.')\n",
    "code_list=datas.keys()"
   ]
  },
  {
   "cell_type": "code",
   "execution_count": 2,
   "metadata": {
    "ExecuteTime": {
     "end_time": "2020-03-08T13:27:22.469668Z",
     "start_time": "2020-03-08T13:27:22.432768Z"
    }
   },
   "outputs": [],
   "source": [
    "\n",
    "class chker(AHundredChecker):\n",
    "    def __init__(self, buy_dict, sell_dict, min_price=3000, min_increase=1.15, **kwargs):\n",
    "        super().__init__(buy_dict, sell_dict, **kwargs)\n",
    "        self._min_price = 3000\n",
    "        self._min_increase = min_increase\n",
    "\n",
    "    def on_check_sell(self,\n",
    "                      date: datetime.datetime.timestamp,\n",
    "                      code: str,\n",
    "                      price: float,\n",
    "                      cash: float,\n",
    "                      hold_amount: float,\n",
    "                      hold_price: float) -> bool:\n",
    "        if price < hold_price:\n",
    "            # 当前价格小于持仓价时，不可卖\n",
    "            return False\n",
    "        if code in self.sell_dict.keys() and date in self.sell_dict[code]:\n",
    "            # 其他情况均可卖\n",
    "            return True\n",
    "        if hold_amount > 0 and self._min_increase > 0 and price >= hold_price * self._min_increase:\n",
    "            # 当前价格超过成本价15%时，可卖\n",
    "            return True\n",
    "        return False\n",
    "\n",
    "    def on_calc_buy_amount(self, date, code: str, price: float, cash: float) -> float:\n",
    "        amount = 100\n",
    "        if self._min_price > 0:\n",
    "            if cash < self._min_price:\n",
    "                return super().on_calc_buy_amount(date, code, price, cash)\n",
    "            while True:\n",
    "                amount = amount + 100\n",
    "                if price * amount > self._min_price:\n",
    "                    break\n",
    "            amount = amount - 100\n",
    "        return amount\n",
    "\n",
    "    def on_calc_sell_amount(self,\n",
    "                            date: datetime.datetime.timestamp,\n",
    "                            code: str,\n",
    "                            price: float,\n",
    "                            cash: float,\n",
    "                            hold_amount: float,\n",
    "                            hold_price: float) -> float:\n",
    "        \"\"\"返回所有持仓数量，一次卖出所有\"\"\"\n",
    "        return hold_amount\n",
    "\n",
    "\n",
    "def _calc_dict(df, symbol,start,end, bbands_periods, nbdevup, nbdevdn, difupstd, diflowstd, LINEARREG_ANGLE, MAX_LINEARREG_ANGLE,\n",
    "               MAX_ROLLING_MEAN, MAX_ROLLING_MEAN_MIN_PERIODS):\n",
    "    \"\"\"\n",
    "    \n",
    "    Args:\n",
    "        df (DataFrame): 前复权后的数据。reset_index().set_index('date')之后的数据。\n",
    "    \"\"\"\n",
    "    if df is not None and not df.empty:\n",
    "        bbands = df.reset_index().set_index('date')[start:end].reset_index().copy()\n",
    "        bbands['up'], bbands['mean'], bbands['low'] = talib.BBANDS(bbands['close'].values, timeperiod=bbands_periods,\n",
    "                                                                   nbdevup=nbdevup, nbdevdn=nbdevdn)\n",
    "        bbands['diff_up'] = bbands['up'] / bbands['close']\n",
    "        bbands['diff_mean'] = bbands['mean'] / bbands['close']\n",
    "        bbands['diff_low'] = bbands['low'] / bbands['close']\n",
    "\n",
    "        bbands['opt'] = 0\n",
    "\n",
    "        m1 = bbands['diff_up'].min() + bbands['diff_up'].std() * difupstd  # 卖出点\n",
    "        m2 = bbands['diff_low'].max() - bbands['diff_low'].std() * diflowstd  # 买入点\n",
    "\n",
    "        angles = []\n",
    "        max_angles = {}\n",
    "        for angle in LINEARREG_ANGLE:\n",
    "            col = 'angle_{}'.format(angle)\n",
    "            angles.append(col)\n",
    "            bbands[col] = talib.LINEARREG_ANGLE(bbands['close'], angle).abs().fillna(99)  # 日均线角度\n",
    "            if MAX_LINEARREG_ANGLE == \"MEAN\":\n",
    "                v = talib.LINEARREG_ANGLE(bbands['close'], angle).abs().mean()  # 日均线角度平均值\n",
    "            else:\n",
    "                v = talib.LINEARREG_ANGLE(bbands['close'], angle).abs().median()  # 日均线角度中位数\n",
    "            if np.isnan(v):\n",
    "                raise ValueError('{} LINEARREG_ANGLE is NaN'.format(angle))\n",
    "            max_angles[col] = int(v)\n",
    "        #                 bbands['angle_3']=talib.LINEARREG_ANGLE(bbands['close'],3).abs().fillna(99)#3日均线角度\n",
    "        #                 max_angle_60=int(talib.LINEARREG_ANGLE(bbands['close'],60).abs().mean())#60日均线角度中位数\n",
    "\n",
    "        bbands['rolling_mean'] = bbands['close'].rolling(MAX_ROLLING_MEAN,\n",
    "                                                         min_periods=MAX_ROLLING_MEAN_MIN_PERIODS).mean()  # 250日均价\n",
    "        bbands['rolling_std'] = bbands['close'].rolling(MAX_ROLLING_MEAN,\n",
    "                                                        min_periods=MAX_ROLLING_MEAN_MIN_PERIODS).std()  # 250日均价\n",
    "        bbands['rolling_mean'] = bbands['rolling_mean'] + bbands['rolling_std']\n",
    "\n",
    "        \"\"\"\n",
    "        1. 股价偏离30日均线上限或下线(diff_up,diff_low)\n",
    "        2. 30日均线角度绝对值小于5度时\n",
    "        3. 3日均线角度绝对值小于10度时\n",
    "        4. 当前价格需要小于250日均价+标准差的上限\n",
    "\n",
    "        2~4 均是为了防止站在山顶上\n",
    "        \"\"\"\n",
    "\n",
    "        bbands.loc[bbands['diff_up'] < m1, 'opt'] = 1  # 卖出点\n",
    "        # 买入点\n",
    "        query = 'diff_low>{}'.format(m2)\n",
    "        query = query + ' & close<rolling_mean & '\n",
    "        query = query + (' & '.join(['{}<{}'.format(a, max_angles[a]) for a in angles]))\n",
    "        #             queries[symbol]=query\n",
    "        bbands.loc[bbands.query(query).index, 'opt'] = 2\n",
    "        bbands.loc[bbands['opt'] != 0][['date', 'close', 'opt']]\n",
    "        point = bbands.loc[bbands['opt'] != 0][1:]\n",
    "\n",
    "        return symbol, pd.DatetimeIndex(point.loc[point['opt'] == 2]['date'].values), pd.DatetimeIndex(point.loc[point['opt'] == 1]['date'].values), query\n",
    "    return symbol,pd.Series(),pd.Series(),None\n",
    "\n",
    "def calc_dict(qfq_datas: dict,\n",
    "              start='2006-01-01',\n",
    "              end='2018-12-31',\n",
    "              bbands_periods=30,\n",
    "              nbdevup=2.8,\n",
    "              nbdevdn=2.8,\n",
    "              difupstd=0.1,\n",
    "              diflowstd=0.1,\n",
    "              LINEARREG_ANGLE=[60, 30, 10, 5, 3],\n",
    "              MAX_LINEARREG_ANGLE='MED',\n",
    "              MAX_ROLLING_MEAN=250,\n",
    "              MAX_ROLLING_MEAN_MIN_PERIODS=30,\n",
    "              max_workers=None,\n",
    "              mulitThread=False\n",
    "              ):\n",
    "    \"\"\"计算买入卖出时机点\n",
    "\n",
    "    Args:\n",
    "        MAX_LINEARREG_ANGLE: MED（中位数），MEAN（平均值）\n",
    "\n",
    "    Returns:\n",
    "        {},{} : 买入时机字典，卖出时机字典\n",
    "    \"\"\"\n",
    "\n",
    "    buy_dict = {}\n",
    "    sell_dict = {}\n",
    "    queries = {}\n",
    "    if mulitThread:\n",
    "#         with concurrent.futures.ThreadPoolExecutor(max_workers=max_workers) as executor:\n",
    "#             # Start the load operations and mark each future with its URL\n",
    "#             _calcs = {executor.submit(_calc_dict, df, symbol,start,end, bbands_periods, nbdevup, nbdevdn, difupstd, diflowstd,\n",
    "#                                       LINEARREG_ANGLE,\n",
    "#                                       MAX_LINEARREG_ANGLE,\n",
    "#                                       MAX_ROLLING_MEAN,\n",
    "#                                       MAX_ROLLING_MEAN_MIN_PERIODS): (symbol, df) for (symbol, df) in qfq_datas.items()}\n",
    "#             for future in concurrent.futures.as_completed(_calcs):\n",
    "#                 try:\n",
    "#                     symbol, buy, sell, q =future.result()\n",
    "#                     if (not buy.empty or not sell.empty) and q:\n",
    "#                         buy_dict[symbol] = buy\n",
    "#                         sell_dict[symbol] = sell\n",
    "#                         queries[symbol] = q\n",
    "#                 except Exception as e:\n",
    "#                     #                 print(str(e))\n",
    "#                     #                 traceback.print_exc()\n",
    "#                     if symbol in buy_dict:\n",
    "#                         del buy_dict[symbol]\n",
    "#                     if symbol in sell_dict:\n",
    "#                         del sell_dict[symbol]\n",
    "#                     if symbol in queries:\n",
    "#                         del queries[symbol]\n",
    "#                     continue\n",
    "        pass\n",
    "    else:\n",
    "        for symbol,df in tqdm(qfq_datas.items()):\n",
    "            try:\n",
    "                symbol, buy_dict[symbol],sell_dict[symbol],queries[symbol]=_calc_dict(df, symbol,start,end, bbands_periods, nbdevup, nbdevdn, difupstd, diflowstd,\n",
    "                                      LINEARREG_ANGLE,\n",
    "                                      MAX_LINEARREG_ANGLE,\n",
    "                                      MAX_ROLLING_MEAN,\n",
    "                                      MAX_ROLLING_MEAN_MIN_PERIODS)\n",
    "            except Exception as e:\n",
    "                if symbol in buy_dict:\n",
    "                    del buy_dict[symbol]\n",
    "                if symbol in sell_dict:\n",
    "                    del sell_dict[symbol]\n",
    "                if symbol in queries:\n",
    "                    del queries[symbol]\n",
    "                continue\n",
    "    return buy_dict, sell_dict, queries\n",
    "\n",
    "\n",
    "def test(datas,\n",
    "         qfq,\n",
    "         hfq,\n",
    "         start='2006-01-01',\n",
    "         end='2018-12-31',\n",
    "         bbands_periods=30,\n",
    "         nbdevup=2.8,\n",
    "         nbdevdn=2.8,\n",
    "         difupstd=0.1,\n",
    "         diflowstd=0.1,\n",
    "         LINEARREG_ANGLE=[60, 30, 3],\n",
    "         MAX_LINEARREG_ANGLE='MED',\n",
    "         MAX_ROLLING_MEAN=250,\n",
    "         MAX_ROLLING_MEAN_MIN_PERIODS=30,\n",
    "         init_cash=50000,\n",
    "         min_price=3000,\n",
    "         min_increase=1.15,\n",
    "         name='',max_workers=None):\n",
    "    print(\n",
    "        'bbands_periods={},nbdevup={},nbdevdn={},diffupstd={},diflowstd={},MAX_LINEARREG_ANGLE={},MAX_ROLLING_MEAN={},MAX_ROLLING_MEAN_MIN_PERIODS={},init_cash={},min_price={},min_increase={}'.format(\n",
    "            bbands_periods, nbdevup, nbdevdn, difupstd, diflowstd, MAX_LINEARREG_ANGLE, MAX_ROLLING_MEAN,\n",
    "            MAX_ROLLING_MEAN_MIN_PERIODS, init_cash, min_price, min_increase))\n",
    "    buy_dict, sell_dict, queries = calc_dict(qfq,\n",
    "                                             start=start,\n",
    "                                             end=end,\n",
    "                                             bbands_periods=bbands_periods,\n",
    "                                             nbdevup=nbdevup,\n",
    "                                             nbdevdn=nbdevdn,\n",
    "                                             difupstd=difupstd,\n",
    "                                             diflowstd=diflowstd,\n",
    "                                             LINEARREG_ANGLE=LINEARREG_ANGLE,\n",
    "                                             MAX_LINEARREG_ANGLE=MAX_LINEARREG_ANGLE,\n",
    "                                             MAX_ROLLING_MEAN=MAX_ROLLING_MEAN,\n",
    "                                             MAX_ROLLING_MEAN_MIN_PERIODS=MAX_ROLLING_MEAN_MIN_PERIODS,\n",
    "                                             max_workers=max_workers\n",
    "                                             )\n",
    "\n",
    "    buy_symbols = [k for k, v in buy_dict.items() if v is not None and len(v) > 0]\n",
    "\n",
    "    if len(buy_symbols) <= 0:\n",
    "        print('没有买入信号')\n",
    "        return None, None\n",
    "\n",
    "#     print('Data reading...')\n",
    "    datas_hfq = {}\n",
    "    for symbol in tqdm(buy_symbols):\n",
    "        datas_hfq[symbol] = hfq[symbol]\n",
    "#     print('Data readed')\n",
    "\n",
    "    all_data = pd.concat([x for x in datas_hfq.values() if x is not None])\n",
    "    bt = BackTest(all_data.sort_index(level=0).reset_index(), init_cash,\n",
    "                  callbacks=[chker(buy_dict, sell_dict, min_price, min_increase)])\n",
    "    print('Calcing...{}'.format(len(buy_symbols)))\n",
    "    bt.calc_trade_history(verbose=0)\n",
    "    print('Calced')\n",
    "    print('当前总资产:{},可用资金:{}'.format(bt.total_assets_cur, bt.available_cash))\n",
    "    return bt, queries"
   ]
  },
  {
   "cell_type": "code",
   "execution_count": 3,
   "metadata": {
    "ExecuteTime": {
     "end_time": "2020-03-08T13:27:22.476654Z",
     "start_time": "2020-03-08T13:27:22.472661Z"
    }
   },
   "outputs": [],
   "source": [
    "result={}\n",
    "queries={}\n",
    "max_workers=None"
   ]
  },
  {
   "cell_type": "code",
   "execution_count": null,
   "metadata": {
    "ExecuteTime": {
     "start_time": "2020-03-08T13:24:34.134Z"
    }
   },
   "outputs": [
    {
     "name": "stdout",
     "output_type": "stream",
     "text": [
      "bbands_periods=5,nbdevup=2.6,nbdevdn=2.6,diffupstd=0.1,diflowstd=0.1,MAX_LINEARREG_ANGLE=MED,MAX_ROLLING_MEAN=120,MAX_ROLLING_MEAN_MIN_PERIODS=5,init_cash=50000,min_price=1000,min_increase=1.15\n"
     ]
    },
    {
     "name": "stderr",
     "output_type": "stream",
     "text": [
      " 84%|██████████████████████████████████████████████████████████████████▉             | 662/791 [00:17<00:03, 38.98it/s]C:\\Users\\GuQiang\\Anaconda3\\envs\\stock_ai\\lib\\site-packages\\numpy\\lib\\nanfunctions.py:1076: RuntimeWarning: Mean of empty slice\n",
      "  return np.nanmean(a, axis, out=out, keepdims=keepdims)\n",
      "100%|████████████████████████████████████████████████████████████████████████████████| 791/791 [00:19<00:00, 40.45it/s]\n"
     ]
    },
    {
     "name": "stdout",
     "output_type": "stream",
     "text": [
      "Data reading...\n"
     ]
    },
    {
     "name": "stderr",
     "output_type": "stream",
     "text": [
      "100%|████████████████████████████████████████████████████████████████████████████████████████| 523/523 [00:00<?, ?it/s]\n"
     ]
    },
    {
     "name": "stdout",
     "output_type": "stream",
     "text": [
      "Data readed\n",
      "Calcing...523\n"
     ]
    }
   ],
   "source": [
    "for _rollin_mean in [120,250,360]:\n",
    "    for _bbands_periods in [5,20,30,60]:#布林带窗口期\n",
    "        for _nbdev in np.arange(2.6,3.1,0.1):#布林带上下限大小\n",
    "            for _nb_diff in np.arange(0.1,1.0,0.1):#布林带上下限加减的标准差大小\n",
    "                for _min_price in [1000,3000,5000]:#最小购买金额\n",
    "                    for _angle in ['MED','MEAN']:\n",
    "                        name='bbands_periods={},nbdevup={},nbdevdn={},diffupstd={},diflowstd={},MAX_LINEARREG_ANGLE={},MAX_ROLLING_MEAN={},MAX_ROLLING_MEAN_MIN_PERIODS={},min_price={}'.format(\n",
    "                            _bbands_periods,_nbdev,_nbdev,_nb_diff,_nb_diff,_angle,_rollin_mean,_bbands_periods,_min_price)\n",
    "                        b,q=test(datas,qfq_datas,hfq_datas,\n",
    "                                          name=name,\n",
    "                                          min_price=_min_price,\n",
    "                                          MAX_LINEARREG_ANGLE=_angle,\n",
    "                                          nbdevup=_nbdev,\n",
    "                                          nbdevdn=_nbdev,\n",
    "                                          difupstd=_nb_diff,\n",
    "                                          diflowstd=_nb_diff,\n",
    "                                          bbands_periods=_bbands_periods,\n",
    "                                          MAX_ROLLING_MEAN_MIN_PERIODS=_bbands_periods,\n",
    "                                          MAX_ROLLING_MEAN=_rollin_mean,\n",
    "                                 max_workers=max_workers\n",
    "                                         )\n",
    "                        result[name]=b\n",
    "                        queries[name]=q"
   ]
  },
  {
   "cell_type": "code",
   "execution_count": null,
   "metadata": {
    "ExecuteTime": {
     "start_time": "2020-03-08T13:24:34.136Z"
    }
   },
   "outputs": [],
   "source": [
    "datas"
   ]
  },
  {
   "cell_type": "code",
   "execution_count": null,
   "metadata": {
    "ExecuteTime": {
     "start_time": "2020-03-08T13:24:34.138Z"
    }
   },
   "outputs": [],
   "source": [
    "hfq_datas"
   ]
  },
  {
   "cell_type": "code",
   "execution_count": null,
   "metadata": {},
   "outputs": [],
   "source": []
  }
 ],
 "metadata": {
  "kernelspec": {
   "display_name": "stock_ai",
   "language": "python",
   "name": "stock_ai"
  },
  "language_info": {
   "codemirror_mode": {
    "name": "ipython",
    "version": 3
   },
   "file_extension": ".py",
   "mimetype": "text/x-python",
   "name": "python",
   "nbconvert_exporter": "python",
   "pygments_lexer": "ipython3",
   "version": "3.7.3"
  }
 },
 "nbformat": 4,
 "nbformat_minor": 2
}
